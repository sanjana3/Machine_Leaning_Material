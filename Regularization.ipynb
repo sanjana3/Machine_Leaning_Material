{
  "nbformat": 4,
  "nbformat_minor": 0,
  "metadata": {
    "colab": {
      "name": "Regularization.ipynb",
      "provenance": []
    },
    "kernelspec": {
      "name": "python3",
      "display_name": "Python 3"
    },
    "language_info": {
      "name": "python"
    }
  },
  "cells": [
    {
      "cell_type": "markdown",
      "source": [
        "Lasso and Ridge regression regulization \n",
        "\n",
        "\n",
        "Import modules necessary"
      ],
      "metadata": {
        "id": "dxO9_O5EO21r"
      }
    },
    {
      "cell_type": "code",
      "execution_count": 2,
      "metadata": {
        "id": "IF1BsObbN9Ju"
      },
      "outputs": [],
      "source": [
        "import pandas as pd\n",
        "import numpy as np\n",
        "import matplotlib.pyplot as plt\n",
        "from sklearn import datasets\n",
        "from sklearn.model_selection  import train_test_split\n",
        "from sklearn.linear_model import LinearRegression"
      ]
    },
    {
      "cell_type": "markdown",
      "source": [
        "Load the  california housing *dataset*"
      ],
      "metadata": {
        "id": "4zqTCnG4O-jC"
      }
    },
    {
      "cell_type": "code",
      "source": [
        "cali_dataset = datasets.fetch_california_housing()"
      ],
      "metadata": {
        "id": "AeqCzIcqOrKG"
      },
      "execution_count": 3,
      "outputs": []
    },
    {
      "cell_type": "markdown",
      "source": [
        "Convert the dataset into a DataFrame and set the columns and the target variable."
      ],
      "metadata": {
        "id": "uy4xdmsbPVET"
      }
    },
    {
      "cell_type": "code",
      "source": [
        "#Load the dataset\n",
        "cali_pd = pd.DataFrame(cali_dataset.data)\n",
        "cali_pd.columns = cali_dataset.feature_names\n",
        "cali_pd_target = np.asarray(cali_dataset.target)\n",
        "cali_pd['House price'] = pd.Series(cali_pd_target)\n",
        "\n",
        "#Load input & Ouptut\n",
        "X = cali_pd.iloc[:, :-1]\n",
        "Y = cali_pd.iloc[:,-1]\n",
        "\n",
        "cali_pd.head()"
      ],
      "metadata": {
        "colab": {
          "base_uri": "https://localhost:8080/",
          "height": 287
        },
        "id": "EjmOXtBGOrMG",
        "outputId": "b17ce88b-d9c1-4282-b4b8-a8f3621c05ba"
      },
      "execution_count": 4,
      "outputs": [
        {
          "output_type": "execute_result",
          "data": {
            "text/plain": [
              "   MedInc  HouseAge  AveRooms  AveBedrms  Population  AveOccup  Latitude  \\\n",
              "0  8.3252      41.0  6.984127   1.023810       322.0  2.555556     37.88   \n",
              "1  8.3014      21.0  6.238137   0.971880      2401.0  2.109842     37.86   \n",
              "2  7.2574      52.0  8.288136   1.073446       496.0  2.802260     37.85   \n",
              "3  5.6431      52.0  5.817352   1.073059       558.0  2.547945     37.85   \n",
              "4  3.8462      52.0  6.281853   1.081081       565.0  2.181467     37.85   \n",
              "\n",
              "   Longitude  House price  \n",
              "0    -122.23        4.526  \n",
              "1    -122.22        3.585  \n",
              "2    -122.24        3.521  \n",
              "3    -122.25        3.413  \n",
              "4    -122.25        3.422  "
            ],
            "text/html": [
              "\n",
              "  <div id=\"df-33cd7f02-629a-48ec-9fa6-de82e173f690\">\n",
              "    <div class=\"colab-df-container\">\n",
              "      <div>\n",
              "<style scoped>\n",
              "    .dataframe tbody tr th:only-of-type {\n",
              "        vertical-align: middle;\n",
              "    }\n",
              "\n",
              "    .dataframe tbody tr th {\n",
              "        vertical-align: top;\n",
              "    }\n",
              "\n",
              "    .dataframe thead th {\n",
              "        text-align: right;\n",
              "    }\n",
              "</style>\n",
              "<table border=\"1\" class=\"dataframe\">\n",
              "  <thead>\n",
              "    <tr style=\"text-align: right;\">\n",
              "      <th></th>\n",
              "      <th>MedInc</th>\n",
              "      <th>HouseAge</th>\n",
              "      <th>AveRooms</th>\n",
              "      <th>AveBedrms</th>\n",
              "      <th>Population</th>\n",
              "      <th>AveOccup</th>\n",
              "      <th>Latitude</th>\n",
              "      <th>Longitude</th>\n",
              "      <th>House price</th>\n",
              "    </tr>\n",
              "  </thead>\n",
              "  <tbody>\n",
              "    <tr>\n",
              "      <th>0</th>\n",
              "      <td>8.3252</td>\n",
              "      <td>41.0</td>\n",
              "      <td>6.984127</td>\n",
              "      <td>1.023810</td>\n",
              "      <td>322.0</td>\n",
              "      <td>2.555556</td>\n",
              "      <td>37.88</td>\n",
              "      <td>-122.23</td>\n",
              "      <td>4.526</td>\n",
              "    </tr>\n",
              "    <tr>\n",
              "      <th>1</th>\n",
              "      <td>8.3014</td>\n",
              "      <td>21.0</td>\n",
              "      <td>6.238137</td>\n",
              "      <td>0.971880</td>\n",
              "      <td>2401.0</td>\n",
              "      <td>2.109842</td>\n",
              "      <td>37.86</td>\n",
              "      <td>-122.22</td>\n",
              "      <td>3.585</td>\n",
              "    </tr>\n",
              "    <tr>\n",
              "      <th>2</th>\n",
              "      <td>7.2574</td>\n",
              "      <td>52.0</td>\n",
              "      <td>8.288136</td>\n",
              "      <td>1.073446</td>\n",
              "      <td>496.0</td>\n",
              "      <td>2.802260</td>\n",
              "      <td>37.85</td>\n",
              "      <td>-122.24</td>\n",
              "      <td>3.521</td>\n",
              "    </tr>\n",
              "    <tr>\n",
              "      <th>3</th>\n",
              "      <td>5.6431</td>\n",
              "      <td>52.0</td>\n",
              "      <td>5.817352</td>\n",
              "      <td>1.073059</td>\n",
              "      <td>558.0</td>\n",
              "      <td>2.547945</td>\n",
              "      <td>37.85</td>\n",
              "      <td>-122.25</td>\n",
              "      <td>3.413</td>\n",
              "    </tr>\n",
              "    <tr>\n",
              "      <th>4</th>\n",
              "      <td>3.8462</td>\n",
              "      <td>52.0</td>\n",
              "      <td>6.281853</td>\n",
              "      <td>1.081081</td>\n",
              "      <td>565.0</td>\n",
              "      <td>2.181467</td>\n",
              "      <td>37.85</td>\n",
              "      <td>-122.25</td>\n",
              "      <td>3.422</td>\n",
              "    </tr>\n",
              "  </tbody>\n",
              "</table>\n",
              "</div>\n",
              "      <button class=\"colab-df-convert\" onclick=\"convertToInteractive('df-33cd7f02-629a-48ec-9fa6-de82e173f690')\"\n",
              "              title=\"Convert this dataframe to an interactive table.\"\n",
              "              style=\"display:none;\">\n",
              "        \n",
              "  <svg xmlns=\"http://www.w3.org/2000/svg\" height=\"24px\"viewBox=\"0 0 24 24\"\n",
              "       width=\"24px\">\n",
              "    <path d=\"M0 0h24v24H0V0z\" fill=\"none\"/>\n",
              "    <path d=\"M18.56 5.44l.94 2.06.94-2.06 2.06-.94-2.06-.94-.94-2.06-.94 2.06-2.06.94zm-11 1L8.5 8.5l.94-2.06 2.06-.94-2.06-.94L8.5 2.5l-.94 2.06-2.06.94zm10 10l.94 2.06.94-2.06 2.06-.94-2.06-.94-.94-2.06-.94 2.06-2.06.94z\"/><path d=\"M17.41 7.96l-1.37-1.37c-.4-.4-.92-.59-1.43-.59-.52 0-1.04.2-1.43.59L10.3 9.45l-7.72 7.72c-.78.78-.78 2.05 0 2.83L4 21.41c.39.39.9.59 1.41.59.51 0 1.02-.2 1.41-.59l7.78-7.78 2.81-2.81c.8-.78.8-2.07 0-2.86zM5.41 20L4 18.59l7.72-7.72 1.47 1.35L5.41 20z\"/>\n",
              "  </svg>\n",
              "      </button>\n",
              "      \n",
              "  <style>\n",
              "    .colab-df-container {\n",
              "      display:flex;\n",
              "      flex-wrap:wrap;\n",
              "      gap: 12px;\n",
              "    }\n",
              "\n",
              "    .colab-df-convert {\n",
              "      background-color: #E8F0FE;\n",
              "      border: none;\n",
              "      border-radius: 50%;\n",
              "      cursor: pointer;\n",
              "      display: none;\n",
              "      fill: #1967D2;\n",
              "      height: 32px;\n",
              "      padding: 0 0 0 0;\n",
              "      width: 32px;\n",
              "    }\n",
              "\n",
              "    .colab-df-convert:hover {\n",
              "      background-color: #E2EBFA;\n",
              "      box-shadow: 0px 1px 2px rgba(60, 64, 67, 0.3), 0px 1px 3px 1px rgba(60, 64, 67, 0.15);\n",
              "      fill: #174EA6;\n",
              "    }\n",
              "\n",
              "    [theme=dark] .colab-df-convert {\n",
              "      background-color: #3B4455;\n",
              "      fill: #D2E3FC;\n",
              "    }\n",
              "\n",
              "    [theme=dark] .colab-df-convert:hover {\n",
              "      background-color: #434B5C;\n",
              "      box-shadow: 0px 1px 3px 1px rgba(0, 0, 0, 0.15);\n",
              "      filter: drop-shadow(0px 1px 2px rgba(0, 0, 0, 0.3));\n",
              "      fill: #FFFFFF;\n",
              "    }\n",
              "  </style>\n",
              "\n",
              "      <script>\n",
              "        const buttonEl =\n",
              "          document.querySelector('#df-33cd7f02-629a-48ec-9fa6-de82e173f690 button.colab-df-convert');\n",
              "        buttonEl.style.display =\n",
              "          google.colab.kernel.accessAllowed ? 'block' : 'none';\n",
              "\n",
              "        async function convertToInteractive(key) {\n",
              "          const element = document.querySelector('#df-33cd7f02-629a-48ec-9fa6-de82e173f690');\n",
              "          const dataTable =\n",
              "            await google.colab.kernel.invokeFunction('convertToInteractive',\n",
              "                                                     [key], {});\n",
              "          if (!dataTable) return;\n",
              "\n",
              "          const docLinkHtml = 'Like what you see? Visit the ' +\n",
              "            '<a target=\"_blank\" href=https://colab.research.google.com/notebooks/data_table.ipynb>data table notebook</a>'\n",
              "            + ' to learn more about interactive tables.';\n",
              "          element.innerHTML = '';\n",
              "          dataTable['output_type'] = 'display_data';\n",
              "          await google.colab.output.renderOutput(dataTable, element);\n",
              "          const docLink = document.createElement('div');\n",
              "          docLink.innerHTML = docLinkHtml;\n",
              "          element.appendChild(docLink);\n",
              "        }\n",
              "      </script>\n",
              "    </div>\n",
              "  </div>\n",
              "  "
            ]
          },
          "metadata": {},
          "execution_count": 4
        }
      ]
    },
    {
      "cell_type": "markdown",
      "source": [
        "split the data into training and testing sets."
      ],
      "metadata": {
        "id": "N4vnDJPQRQ2U"
      }
    },
    {
      "cell_type": "code",
      "source": [
        "X_train, X_test, Y_train, Y_test = train_test_split(X,Y, test_size=0.15)\n",
        "\n",
        "print(\"Train data shape of X = %s and Y = %s: \"%(X_train.shape, Y_train.shape))\n",
        "\n",
        "print(\"Test data shape of X = %s and Y = %s: \"%(X_test.shape, Y_test.shape))"
      ],
      "metadata": {
        "colab": {
          "base_uri": "https://localhost:8080/"
        },
        "id": "_LtuRqQePWuW",
        "outputId": "fb25259b-041d-42b5-ff68-8d4385488358"
      },
      "execution_count": 5,
      "outputs": [
        {
          "output_type": "stream",
          "name": "stdout",
          "text": [
            "Train data shape of X = (17544, 8) and Y = (17544,): \n",
            "Test data shape of X = (3096, 8) and Y = (3096,): \n"
          ]
        }
      ]
    },
    {
      "cell_type": "markdown",
      "source": [
        "Model creation & Fitting to data"
      ],
      "metadata": {
        "id": "WVSJ5YixR6nI"
      }
    },
    {
      "cell_type": "code",
      "source": [
        "# Apply multiple linear regression model\n",
        "lreg = LinearRegression()\n",
        "lreg.fit(X_train, Y_train)\n",
        "\n",
        "# Generate predictions on test set\n",
        "lreg_y_pred = lreg.predict(X_test)\n",
        "\n",
        "# Calculating mean squared error(mse)\n",
        "mse = np.mean((lreg_y_pred - Y_test)**2)\n",
        "print(\"Mean squared error on test set: \", mse)\n",
        "\n",
        "# Putting together the coefficients and their corresponding variable names\n",
        "lreg_coeff = pd.DataFrame()\n",
        "lreg_coeff['Columns'] = X_train.columns\n",
        "lreg_coeff['coeff Estimates'] = pd.Series(lreg.coef_)\n",
        "print(lreg_coeff)"
      ],
      "metadata": {
        "colab": {
          "base_uri": "https://localhost:8080/"
        },
        "id": "Ah2fA5I5PWxE",
        "outputId": "c2e678a0-76b9-4f2a-aa3b-915d0987e48d"
      },
      "execution_count": 6,
      "outputs": [
        {
          "output_type": "stream",
          "name": "stdout",
          "text": [
            "Mean squared error on test set:  0.5345371244286224\n",
            "      Columns  coeff Estimates\n",
            "0      MedInc         0.432773\n",
            "1    HouseAge         0.009408\n",
            "2    AveRooms        -0.098336\n",
            "3   AveBedrms         0.603625\n",
            "4  Population        -0.000001\n",
            "5    AveOccup        -0.004863\n",
            "6    Latitude        -0.421344\n",
            "7   Longitude        -0.432347\n"
          ]
        }
      ]
    },
    {
      "cell_type": "markdown",
      "source": [
        "plot the coefficient score"
      ],
      "metadata": {
        "id": "ODm8-ymbTeVJ"
      }
    },
    {
      "cell_type": "code",
      "source": [
        "# Plotting the coefficient score\n",
        "fig, ax = plt.subplots(figsize=(20,10))\n",
        "\n",
        "color = ['tab:blue','tab:orange','tab:green',\n",
        "         'tab:pink','tab:cyan','tab:brown',\n",
        "         'tab:gray','tab:red']\n",
        "      \n",
        "ax.bar(lreg_coeff['Columns'],lreg_coeff['coeff Estimates'],color=color)\n",
        "ax.spines['bottom'].set_position(\"zero\")\n",
        "plt.style.use('ggplot')\n",
        "plt.show()"
      ],
      "metadata": {
        "colab": {
          "base_uri": "https://localhost:8080/",
          "height": 321
        },
        "id": "O6PWGnnbTd1E",
        "outputId": "588b41b1-bfa5-4dcb-85d8-3a781cb425e6"
      },
      "execution_count": 7,
      "outputs": [
        {
          "output_type": "display_data",
          "data": {
            "text/plain": [
              "<Figure size 1440x720 with 1 Axes>"
            ],
            "image/png": "[encoded data removed]"
          },
          "metadata": {
            "needs_background": "light"
          }
        }
      ]
    },
    {
      "cell_type": "markdown",
      "source": [
        "Let us perform Ridge regression and plot new coefficients that we get from it."
      ],
      "metadata": {
        "id": "hW_qRYN_Uvyc"
      }
    },
    {
      "cell_type": "code",
      "source": [
        "from sklearn.linear_model import Ridge\n",
        "\n",
        "# Train the model\n",
        "ridgeR = Ridge(alpha=0.7)\n",
        "ridgeR.fit(X_train, Y_train)\n",
        "y_pred = ridgeR.predict(X_test)\n",
        "\n",
        "# Calculating mean squared error(mse)\n",
        "mse = np.mean((y_pred - Y_test)**2)\n",
        "print(\"Mean squared error on test set: \", mse)\n",
        "\n",
        "# Putting together the coefficients and their corresponding variable names\n",
        "ridge_coeff = pd.DataFrame()\n",
        "ridge_coeff['Columns'] = X_train.columns\n",
        "ridge_coeff['coeff Estimates'] = pd.Series(ridgeR.coef_)\n",
        "print(ridge_coeff)"
      ],
      "metadata": {
        "colab": {
          "base_uri": "https://localhost:8080/"
        },
        "id": "gQqfWzH5Usxc",
        "outputId": "d0b07b8c-721f-4c4a-e2d3-4fee5fc53fc8"
      },
      "execution_count": 8,
      "outputs": [
        {
          "output_type": "stream",
          "name": "stdout",
          "text": [
            "Mean squared error on test set:  0.5345530611247767\n",
            "      Columns  coeff Estimates\n",
            "0      MedInc         0.432698\n",
            "1    HouseAge         0.009410\n",
            "2    AveRooms        -0.098194\n",
            "3   AveBedrms         0.602875\n",
            "4  Population        -0.000001\n",
            "5    AveOccup        -0.004863\n",
            "6    Latitude        -0.421328\n",
            "7   Longitude        -0.432321\n"
          ]
        }
      ]
    },
    {
      "cell_type": "code",
      "source": [
        "# Plotting the coefficient score  Ridge Regression model\n",
        "fig, ax = plt.subplots(figsize=(20,10))\n",
        "\n",
        "color = ['tab:blue','tab:orange','tab:green',\n",
        "         'tab:pink','tab:cyan','tab:brown',\n",
        "         'tab:gray','tab:red']\n",
        "      \n",
        "ax.bar(ridge_coeff['Columns'],ridge_coeff['coeff Estimates'],color=color)\n",
        "ax.spines['bottom'].set_position(\"zero\")\n",
        "plt.style.use('ggplot')\n",
        "plt.show()"
      ],
      "metadata": {
        "colab": {
          "base_uri": "https://localhost:8080/",
          "height": 321
        },
        "id": "uJL99wf2PWz7",
        "outputId": "7f1acbca-5dca-46a8-a0fb-f6a8bf92b8b2"
      },
      "execution_count": 9,
      "outputs": [
        {
          "output_type": "display_data",
          "data": {
            "text/plain": [
              "<Figure size 1440x720 with 1 Axes>"
            ],
            "image/png": "[encoded data removed]"
          },
          "metadata": {}
        }
      ]
    },
    {
      "cell_type": "markdown",
      "source": [
        " Lasso Regression and find the coefficients for it"
      ],
      "metadata": {
        "id": "DB_mJyuAVr4Q"
      }
    },
    {
      "cell_type": "code",
      "source": [
        "from sklearn.linear_model import Lasso\n",
        "\n",
        "# Train the model\n",
        "lasso = Lasso(alpha=0.7)\n",
        "lasso.fit(X_train, Y_train)\n",
        "y_pred1 = lasso.predict(X_test)\n",
        "\n",
        "# Calculating mean squared error(mse)\n",
        "mse = np.mean((y_pred1 - Y_test)**2)\n",
        "print(\"Mean squared error on test set: \", mse)\n",
        "\n",
        "# Putting together the coefficients and their corresponding variable names\n",
        "lasso_coeff = pd.DataFrame()\n",
        "lasso_coeff['Columns'] = X_train.columns\n",
        "lasso_coeff['coeff Estimates'] = pd.Series(lasso.coef_)\n",
        "print(lasso_coeff)"
      ],
      "metadata": {
        "colab": {
          "base_uri": "https://localhost:8080/"
        },
        "id": "NVfChQLFVt30",
        "outputId": "a1b17eb1-494d-48e3-83ca-d5806a4ded70"
      },
      "execution_count": 10,
      "outputs": [
        {
          "output_type": "stream",
          "name": "stdout",
          "text": [
            "Mean squared error on test set:  0.8309742608745825\n",
            "      Columns  coeff Estimates\n",
            "0      MedInc         0.230991\n",
            "1    HouseAge         0.009164\n",
            "2    AveRooms         0.000000\n",
            "3   AveBedrms        -0.000000\n",
            "4  Population         0.000006\n",
            "5    AveOccup        -0.000000\n",
            "6    Latitude        -0.000000\n",
            "7   Longitude        -0.000000\n"
          ]
        }
      ]
    },
    {
      "cell_type": "code",
      "source": [
        "# Plotting the coefficient score Lasso Regression model\n",
        "fig, ax = plt.subplots(figsize=(20,10))\n",
        "\n",
        "color = ['tab:blue','tab:orange','tab:green',\n",
        "         'tab:pink','tab:cyan','tab:brown',\n",
        "         'tab:gray','tab:red']\n",
        "      \n",
        "ax.bar(lasso_coeff['Columns'],lasso_coeff['coeff Estimates'],color=color)\n",
        "ax.spines['bottom'].set_position(\"zero\")\n",
        "plt.style.use('ggplot')\n",
        "plt.show()"
      ],
      "metadata": {
        "colab": {
          "base_uri": "https://localhost:8080/",
          "height": 331
        },
        "id": "3A4qZQktWC6B",
        "outputId": "3239e257-f5e7-4f2d-b301-f70a0b66948b"
      },
      "execution_count": 11,
      "outputs": [
        {
          "output_type": "display_data",
          "data": {
            "text/plain": [
              "<Figure size 1440x720 with 1 Axes>"
            ],
            "image/png": "[encoded data removed]"
          },
          "metadata": {}
        }
      ]
    }
  ]
}